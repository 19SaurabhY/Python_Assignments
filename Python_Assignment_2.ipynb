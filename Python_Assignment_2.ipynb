{
 "cells": [
  {
   "cell_type": "code",
   "execution_count": null,
   "id": "3589dcdb",
   "metadata": {},
   "outputs": [],
   "source": [
    "1.What are the two values of the Boolean data type? How do you write them?"
   ]
  },
  {
   "cell_type": "code",
   "execution_count": 7,
   "id": "fecc1849",
   "metadata": {},
   "outputs": [
    {
     "name": "stdout",
     "output_type": "stream",
     "text": [
      "x is true\n",
      "y is false\n"
     ]
    }
   ],
   "source": [
    "\"\"\"The Boolean data type has two possible values: true and false. In programming, \n",
    "these values are often represented using the keywords \"True\" and \"False\".\n",
    "\n",
    "In Python, for example, the boolean values are written as:\n",
    "\n",
    "True: Representing the boolean value for true.\n",
    "False: Representing the boolean value for false.\"\"\"\n",
    "\n",
    "x = True\n",
    "y = False\n",
    "\n",
    "if x:\n",
    "    print(\"x is true\")\n",
    "\n",
    "if not y:\n",
    "    print(\"y is false\")"
   ]
  },
  {
   "cell_type": "code",
   "execution_count": null,
   "id": "95b2beba",
   "metadata": {},
   "outputs": [],
   "source": [
    "2. What are the three different types of Boolean operators?"
   ]
  },
  {
   "cell_type": "code",
   "execution_count": null,
   "id": "5e2fa48e",
   "metadata": {},
   "outputs": [],
   "source": [
    "The three basic types of Boolean operators are:\n",
    "\n",
    "1. AND Operator: The AND operator returns true if both of its operands are true; \n",
    "    otherwise, it returns false.\n",
    "   \n",
    "\n",
    "2. OR Operator: The OR operator returns true if at least one of its operands is true;\n",
    "    otherwise, it returns false.\n",
    "   \n",
    "\n",
    "3. NOT Operator: The NOT operator negates the value of its operand. It returns true if the operand is false, \n",
    "    and false if the operand is true.\n",
    "   "
   ]
  },
  {
   "cell_type": "code",
   "execution_count": null,
   "id": "8e7a0c8c",
   "metadata": {},
   "outputs": [],
   "source": [
    "3. Make a list of each Boolean operators truth tables (i.e. every possible combination of Boolean\n",
    "values for the operator and what it evaluate)."
   ]
  },
  {
   "cell_type": "code",
   "execution_count": null,
   "id": "7c0d9675",
   "metadata": {},
   "outputs": [],
   "source": [
    "1. AND Operator: The AND operator returns true if both of its operands are true; \n",
    "    otherwise, it returns false.\n",
    "   - True AND True = True\n",
    "   - True AND False = False\n",
    "   - False AND True = False\n",
    "   - False AND False = False\n",
    "\n",
    "2. OR Operator: The OR operator returns true if at least one of its operands is true;\n",
    "    otherwise, it returns false.\n",
    "   - True OR True = True\n",
    "   - True OR False = True\n",
    "   - False OR True = True\n",
    "   - False OR False = False\n",
    "\n",
    "3. NOT Operator: The NOT operator negates the value of its operand. It returns true if the operand is false, \n",
    "    and false if the operand is true.\n",
    "   - NOT True = False\n",
    "   - NOT False = True"
   ]
  },
  {
   "cell_type": "code",
   "execution_count": 38,
   "id": "c19e6991",
   "metadata": {},
   "outputs": [
    {
     "name": "stdout",
     "output_type": "stream",
     "text": [
      "Object `expressions` not found.\n",
      "False\n",
      "False\n",
      "True\n",
      "False\n",
      "False\n",
      "True\n"
     ]
    },
    {
     "data": {
      "text/plain": [
       "'not False evaluates to True.\\nnot True evaluates to False.\\nTrue or False evaluates to True.\\nTherefore, the value of the expression is True.\\n'"
      ]
     },
     "execution_count": 38,
     "metadata": {},
     "output_type": "execute_result"
    }
   ],
   "source": [
    "4. What are the values of the following expressions?\n",
    "\"\"\"(5 > 4) and (3 == 5)\n",
    "not (5 > 4)\n",
    "(5 > 4) or (3 == 5)\n",
    "not ((5 > 4) or (3 == 5))\n",
    "(True and True) and (True == False)\n",
    "(not False) or (not True)\"\"\"\n",
    "\n",
    "a= (5 > 4) and (3 == 5)\n",
    "print(a)\n",
    "\"\"\"(5 > 4) evaluates to True.\n",
    "(3 == 5) evaluates to False.\n",
    "True and False evaluates to False.\n",
    "Therefore, the value of the expression is False.\"\"\"\n",
    "\n",
    "b=not (5 > 4)\n",
    "print(b)\n",
    "\"\"\"(5 > 4) evaluates to True.\n",
    "not True evaluates to False.\n",
    "Therefore, the value of the expression is False.\n",
    "\"\"\"\n",
    "\n",
    "c=(5 > 4) or (3 == 5)\n",
    "print(c)\n",
    "\"\"\"(5 > 4) evaluates to True.\n",
    "(3 == 5) evaluates to False.\n",
    "True or False evaluates to True.\n",
    "Therefore, the value of the expression is True.\"\"\"\n",
    "\n",
    "d=not ((5 > 4) or (3 == 5))\n",
    "print(d)\n",
    "\"\"\"(5 > 4) evaluates to True.\n",
    "(3 == 5) evaluates to False.\n",
    "True or False evaluates to True.\n",
    "not True evaluates to False.\n",
    "Therefore, the value of the expression is False.\"\"\"\n",
    "\n",
    "e=(True and True) and (True == False)\n",
    "print(e)\n",
    "\"\"\"True and True evaluates to True.\n",
    "True == False evaluates to False.\n",
    "True and False evaluates to False.\n",
    "Therefore, the value of the expression is False.\"\"\"\n",
    "\n",
    "f=(not False) or (not True)\n",
    "print(f)\n",
    "\"\"\"not False evaluates to True.\n",
    "not True evaluates to False.\n",
    "True or False evaluates to True.\n",
    "Therefore, the value of the expression is True.\n",
    "\"\"\"\n"
   ]
  },
  {
   "cell_type": "code",
   "execution_count": null,
   "id": "4f7e6eac",
   "metadata": {},
   "outputs": [],
   "source": [
    "5. What are the six comparison operators?"
   ]
  },
  {
   "cell_type": "code",
   "execution_count": null,
   "id": "6a5a3c06",
   "metadata": {},
   "outputs": [],
   "source": [
    "/  >> division\n",
    "// >> floor division\n",
    "%  >> modulus\n",
    "-  >> substraction\n",
    "+  >> addition\n",
    "*  >> multiplication"
   ]
  },
  {
   "cell_type": "code",
   "execution_count": null,
   "id": "bb30343e",
   "metadata": {},
   "outputs": [],
   "source": [
    "6. How do you tell the difference between the equal to and assignment operators?Describe a\n",
    "condition and when you would use one."
   ]
  },
  {
   "cell_type": "code",
   "execution_count": null,
   "id": "752542ed",
   "metadata": {},
   "outputs": [],
   "source": [
    "\"\"\"The equal to operator '==' is used in conditions or expressions to compare values, \n",
    "while the assignment operator '=' is used to assign values to variables.\"\"\"\n",
    "#equal to operator\n",
    "x = 5\n",
    "y = 10\n",
    "if x == y:\n",
    "    print(\"x and y are equal\")\n",
    "else:\n",
    "    print(\"x and y are not equal\")\n",
    "    \n",
    "#assignment operator\n",
    "x = 5\n",
    "y = x + 2"
   ]
  },
  {
   "cell_type": "code",
   "execution_count": null,
   "id": "41efbc7e",
   "metadata": {},
   "outputs": [],
   "source": [
    "7. Identify the three blocks in this code:\n",
    "spam = 0\n",
    "if spam == 10:\n",
    "    print('eggs')\n",
    "if spam > 5:\n",
    "    print('bacon')\n",
    "else:\n",
    "    print('ham')\n",
    "print('spam')\n",
    "print('spam')"
   ]
  },
  {
   "cell_type": "code",
   "execution_count": 29,
   "id": "1aab0f64",
   "metadata": {},
   "outputs": [
    {
     "name": "stdout",
     "output_type": "stream",
     "text": [
      "ham\n",
      "spam\n",
      "spam\n"
     ]
    }
   ],
   "source": [
    "spam = 0\n",
    "#Block-1\n",
    "if spam == 10:\n",
    "    print('eggs')\n",
    "#Block-2\n",
    "if spam > 5:\n",
    "    print('bacon')\n",
    "#Block-3\n",
    "else:\n",
    "    print('ham')\n",
    "print('spam')\n",
    "print('spam')"
   ]
  },
  {
   "cell_type": "code",
   "execution_count": null,
   "id": "c2da8e45",
   "metadata": {},
   "outputs": [],
   "source": [
    "8. Write code that prints Hello if 1 is stored in spam, prints Howdy if 2 is stored in spam, and prints\n",
    "Greetings! if anything else is stored in spam."
   ]
  },
  {
   "cell_type": "code",
   "execution_count": 26,
   "id": "ef5400a1",
   "metadata": {},
   "outputs": [
    {
     "name": "stdout",
     "output_type": "stream",
     "text": [
      "1\n",
      "Hello\n"
     ]
    }
   ],
   "source": [
    "spam=[]\n",
    "user_input=int(input())\n",
    "spam.append(user_input)\n",
    "\n",
    "for i in spam:\n",
    "    if i==1:\n",
    "        print('Hello')\n",
    "    elif i==2:\n",
    "        print('Howdy')\n",
    "    else:\n",
    "        print('Greetings!')"
   ]
  },
  {
   "cell_type": "code",
   "execution_count": null,
   "id": "57d979a8",
   "metadata": {},
   "outputs": [],
   "source": [
    "9.If your programme is stuck in an endless loop, what keys you’ll press?"
   ]
  },
  {
   "cell_type": "code",
   "execution_count": null,
   "id": "44dfde2d",
   "metadata": {},
   "outputs": [],
   "source": [
    "Ctrl + C"
   ]
  },
  {
   "cell_type": "code",
   "execution_count": null,
   "id": "91c48bc2",
   "metadata": {},
   "outputs": [],
   "source": [
    "10. How can you tell the difference between break and continue?"
   ]
  },
  {
   "cell_type": "code",
   "execution_count": 17,
   "id": "5d2619c4",
   "metadata": {
    "scrolled": true
   },
   "outputs": [
    {
     "name": "stdout",
     "output_type": "stream",
     "text": [
      "1\n",
      "2\n",
      "3\n",
      "4\n"
     ]
    }
   ],
   "source": [
    "#break- it'll break where output is met. It breaks out of the loop entirely, regardless of whether the loop condition is still true or not\n",
    "for i in range(1, 11):\n",
    "    if i == 5:\n",
    "        break\n",
    "    print(i)"
   ]
  },
  {
   "cell_type": "code",
   "execution_count": 19,
   "id": "7516e10c",
   "metadata": {},
   "outputs": [
    {
     "name": "stdout",
     "output_type": "stream",
     "text": [
      "1\n",
      "2\n",
      "3\n",
      "4\n",
      "6\n"
     ]
    }
   ],
   "source": [
    "#continue- It skips the print(i) statement for that iteration and moves to the next iteration, effectively skipping the number 5 in the output\n",
    "for i in range(1, 7):\n",
    "    if i == 5:\n",
    "        continue\n",
    "    print(i)"
   ]
  },
  {
   "cell_type": "code",
   "execution_count": null,
   "id": "f03427bf",
   "metadata": {},
   "outputs": [],
   "source": [
    "11. In a for loop, what is the difference between range(10), range(0, 10), and range(0, 10, 1)?"
   ]
  },
  {
   "cell_type": "code",
   "execution_count": 12,
   "id": "c58875c4",
   "metadata": {
    "scrolled": true
   },
   "outputs": [
    {
     "name": "stdout",
     "output_type": "stream",
     "text": [
      "0 1 2 3 4 5 6 7 8 9 "
     ]
    }
   ],
   "source": [
    "for i in range(10):\n",
    "    print(i, end=' ')\n",
    "    \n",
    "#specifies the stop value only"
   ]
  },
  {
   "cell_type": "code",
   "execution_count": 13,
   "id": "b10cf1a6",
   "metadata": {
    "scrolled": true
   },
   "outputs": [
    {
     "name": "stdout",
     "output_type": "stream",
     "text": [
      "0 1 2 3 4 5 6 7 8 9 "
     ]
    }
   ],
   "source": [
    "for i in range(0,10):\n",
    "    print(i, end=' ')\n",
    "    \n",
    "#specifies the start and stop values"
   ]
  },
  {
   "cell_type": "code",
   "execution_count": 16,
   "id": "d9991f9e",
   "metadata": {},
   "outputs": [
    {
     "name": "stdout",
     "output_type": "stream",
     "text": [
      "0 1 2 3 4 5 6 7 8 9 "
     ]
    }
   ],
   "source": [
    "for i in range(0,10,1):\n",
    "    print(i, end=' ')\n",
    "# specifies the start, stop, and step values"
   ]
  },
  {
   "cell_type": "code",
   "execution_count": null,
   "id": "9ef7386b",
   "metadata": {},
   "outputs": [],
   "source": [
    "12. Write a short program that prints the numbers 1 to 10 using a for loop. Then write an equivalent\n",
    "program that prints the numbers 1 to 10 using a while loop."
   ]
  },
  {
   "cell_type": "code",
   "execution_count": 8,
   "id": "8ea44dca",
   "metadata": {},
   "outputs": [
    {
     "name": "stdout",
     "output_type": "stream",
     "text": [
      "1 2 3 4 5 6 7 8 9 10 "
     ]
    }
   ],
   "source": [
    "for i in range(1,11):\n",
    "    print(i, end=' ')\n",
    "                     "
   ]
  },
  {
   "cell_type": "code",
   "execution_count": 11,
   "id": "cc1ad2bf",
   "metadata": {},
   "outputs": [
    {
     "name": "stdout",
     "output_type": "stream",
     "text": [
      "1 2 3 4 5 6 7 8 9 10 "
     ]
    }
   ],
   "source": [
    "a=1\n",
    "while a<=10:\n",
    "    print(a, end=' ')\n",
    "    a+=1"
   ]
  },
  {
   "cell_type": "code",
   "execution_count": null,
   "id": "a43c6fc6",
   "metadata": {},
   "outputs": [],
   "source": [
    "13. If you had a function named bacon() inside a module named spam, how would you call it after\n",
    "importing spam?"
   ]
  },
  {
   "cell_type": "code",
   "execution_count": null,
   "id": "54b8f1c3",
   "metadata": {},
   "outputs": [],
   "source": [
    "import spam\n",
    "\n",
    "spam.bacon()"
   ]
  }
 ],
 "metadata": {
  "kernelspec": {
   "display_name": "Python 3 (ipykernel)",
   "language": "python",
   "name": "python3"
  },
  "language_info": {
   "codemirror_mode": {
    "name": "ipython",
    "version": 3
   },
   "file_extension": ".py",
   "mimetype": "text/x-python",
   "name": "python",
   "nbconvert_exporter": "python",
   "pygments_lexer": "ipython3",
   "version": "3.9.7"
  }
 },
 "nbformat": 4,
 "nbformat_minor": 5
}
