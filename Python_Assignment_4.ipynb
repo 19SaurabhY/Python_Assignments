{
 "cells": [
  {
   "cell_type": "markdown",
   "id": "0f6c3946",
   "metadata": {},
   "source": [
    "# Python_Assignment_4"
   ]
  },
  {
   "cell_type": "code",
   "execution_count": null,
   "id": "1c0ee38d",
   "metadata": {},
   "outputs": [],
   "source": [
    "1. What exactly is `[]`?"
   ]
  },
  {
   "cell_type": "code",
   "execution_count": null,
   "id": "54d13bcc",
   "metadata": {},
   "outputs": [],
   "source": [
    "`[]` represents an empty list in Python. It is a data structure that can hold an ordered collection of items. \n",
    "In this case, `[]` indicates that the list does not contain any elements."
   ]
  },
  {
   "cell_type": "code",
   "execution_count": null,
   "id": "ca3f2918",
   "metadata": {},
   "outputs": [],
   "source": [
    "2. In a list of values stored in a variable called `spam`, how would you assign the value `'hello'` as the third value? \n",
    "(Assume `[2, 4, 6, 8, 10]` are in `spam`.)\n",
    "Let's pretend the spam includes the list ['a', 'b', 'c', 'd'] for the next three queries."
   ]
  },
  {
   "cell_type": "code",
   "execution_count": null,
   "id": "672ad20e",
   "metadata": {},
   "outputs": [],
   "source": [
    "To assign `'hello'` as the third value in the list `spam`, you can use the index 2 to access the third element and \n",
    "assign the value using the assignment operator `=`.\n",
    "\n",
    "```\n",
    "spam = [2, 4, 6, 8, 10]\n",
    "spam[2] = 'hello'\n",
    "```"
   ]
  },
  {
   "cell_type": "code",
   "execution_count": null,
   "id": "90976a8d",
   "metadata": {},
   "outputs": [],
   "source": [
    "3. What is the value of spam[int(int('3' * 2) / 11)]?"
   ]
  },
  {
   "cell_type": "code",
   "execution_count": null,
   "id": "1faa49ce",
   "metadata": {},
   "outputs": [],
   "source": [
    "The expression '3' * 2 results in the string '33'. Converting it to an integer using int('33') yields the value 33. \n",
    "Dividing 33 by 11 gives 3. Finally, indexing spam with spam[3] retrieves the value at the fourth position, which is 'd'.\n",
    "Therefore, the value of spam[int(int('3' * 2) / 11)] is 'd'."
   ]
  },
  {
   "cell_type": "code",
   "execution_count": null,
   "id": "1c4e6bb3",
   "metadata": {},
   "outputs": [],
   "source": [
    "4. What is the value of spam[-1]?"
   ]
  },
  {
   "cell_type": "code",
   "execution_count": null,
   "id": "838cfce5",
   "metadata": {},
   "outputs": [],
   "source": [
    "Negative indices in Python represent counting from the end of the list. In this case, spam[-1] \n",
    "refers to the last element of the list spam. Assuming spam is ['a', 'b', 'c', 'd'], the value of spam[-1] is 'd'."
   ]
  },
  {
   "cell_type": "code",
   "execution_count": null,
   "id": "b88d3cbb",
   "metadata": {},
   "outputs": [],
   "source": [
    "5. What is the value of spam[:2]?\n",
    "Let's pretend bacon has the list [3.14, 'cat,' 11, 'cat,' True] for the next three questions."
   ]
  },
  {
   "cell_type": "code",
   "execution_count": 13,
   "id": "1fa84df1",
   "metadata": {},
   "outputs": [
    {
     "data": {
      "text/plain": [
       "['a', 'b']"
      ]
     },
     "execution_count": 13,
     "metadata": {},
     "output_type": "execute_result"
    }
   ],
   "source": [
    "spam=['a', 'b', 'c', 'd']\n",
    "spam[:2]"
   ]
  },
  {
   "cell_type": "code",
   "execution_count": null,
   "id": "9ce8ee26",
   "metadata": {},
   "outputs": [],
   "source": [
    "6. What is the value of bacon.index('cat')?"
   ]
  },
  {
   "cell_type": "code",
   "execution_count": null,
   "id": "cda34069",
   "metadata": {},
   "outputs": [],
   "source": [
    "The index() method in Python returns the index of the first occurrence of a specified element in a list. \n",
    "Assuming bacon is [3.14, 'cat', 11, 'cat', True], the value of bacon.index('cat') is 1."
   ]
  },
  {
   "cell_type": "code",
   "execution_count": null,
   "id": "b8d22904",
   "metadata": {},
   "outputs": [],
   "source": [
    "7. How does bacon.append(99) change the look of the list value in bacon?"
   ]
  },
  {
   "cell_type": "code",
   "execution_count": null,
   "id": "6c547249",
   "metadata": {},
   "outputs": [],
   "source": [
    "The append() method in Python adds a new element to the end of a list. In this case, bacon.append(99) \n",
    "would modify the bacon list by appending the value 99 to the end. The resulting bacon list would be \n",
    "[3.14, 'cat', 11, 'cat', True, 99]."
   ]
  },
  {
   "cell_type": "code",
   "execution_count": null,
   "id": "73d686b2",
   "metadata": {},
   "outputs": [],
   "source": [
    "8. How does bacon.remove('cat') change the look of the list in bacon?"
   ]
  },
  {
   "cell_type": "code",
   "execution_count": null,
   "id": "8236d741",
   "metadata": {},
   "outputs": [],
   "source": [
    "The remove() method in Python removes the first occurrence of a specified element from a list. \n",
    "In this case, bacon.remove('cat') would remove the first instance of the string 'cat' from the bacon list. \n",
    "The resulting bacon list would be [3.14, 11, 'cat', True]."
   ]
  },
  {
   "cell_type": "code",
   "execution_count": null,
   "id": "5a6383e8",
   "metadata": {},
   "outputs": [],
   "source": [
    "9. What are the list concatenation and list replication operators?"
   ]
  },
  {
   "cell_type": "code",
   "execution_count": null,
   "id": "02245c18",
   "metadata": {},
   "outputs": [],
   "source": [
    "The list concatenation operator in Python is +. It combines two lists, creating a new list that contains all the elements from \n",
    "both lists in the specified order.\n",
    "\n",
    "The list replication operator in Python is *. It allows you to create a new list by repeating the elements of an \n",
    "existing list a specified number of times."
   ]
  },
  {
   "cell_type": "code",
   "execution_count": null,
   "id": "81ba696a",
   "metadata": {},
   "outputs": [],
   "source": [
    "10. What is difference between the list methods append() and insert()?"
   ]
  },
  {
   "cell_type": "code",
   "execution_count": null,
   "id": "66ea7d23",
   "metadata": {},
   "outputs": [],
   "source": [
    "The append() method adds a new element to the end of a list, expanding the list by one element. \n",
    "It does not require specifying an index.\n",
    "The insert() method, on the other hand, allows you to insert a new element at a specific index within the list. \n",
    "It shifts the existing elements to make room for the new element."
   ]
  },
  {
   "cell_type": "code",
   "execution_count": null,
   "id": "44962e10",
   "metadata": {},
   "outputs": [],
   "source": [
    "11. What are the two methods for removing items from a list?"
   ]
  },
  {
   "cell_type": "code",
   "execution_count": null,
   "id": "65e4461f",
   "metadata": {},
   "outputs": [],
   "source": [
    "The two methods for removing items from a list in Python are:\n",
    "remove(): Removes the first occurrence of a specified element from the list.\n",
    "pop():    Removes and returns the element at a specified index. If no index is provided, it removes and\n",
    "          returns the last element."
   ]
  },
  {
   "cell_type": "code",
   "execution_count": null,
   "id": "60705054",
   "metadata": {},
   "outputs": [],
   "source": [
    "12. Describe how list values and string values are identical."
   ]
  },
  {
   "cell_type": "code",
   "execution_count": null,
   "id": "29471dd0",
   "metadata": {},
   "outputs": [],
   "source": [
    "List values and string values share the similarity of being ordered sequences of items. \n",
    "Both lists and strings maintain the order of their elements, allowing for indexing and slicing operations. \n",
    "Additionally, both can be iterated over using loops. However, one key difference is that lists can contain \n",
    "elements of different data types, while strings typically consist of characters."
   ]
  },
  {
   "cell_type": "code",
   "execution_count": null,
   "id": "c4f44fa1",
   "metadata": {},
   "outputs": [],
   "source": [
    "13. What's the difference between tuples and lists?"
   ]
  },
  {
   "cell_type": "code",
   "execution_count": null,
   "id": "79e934de",
   "metadata": {},
   "outputs": [],
   "source": [
    "The main difference between tuples and lists in Python is that tuples are immutable, while lists are mutable.\n",
    "Once a tuple is created, its elements cannot be modified, added, or removed. In contrast, lists are mutable, \n",
    "allowing for modification, addition, and removal of elements."
   ]
  },
  {
   "cell_type": "code",
   "execution_count": null,
   "id": "9c9528cb",
   "metadata": {},
   "outputs": [],
   "source": [
    "14. How do you type a tuple value that only contains the integer 42?"
   ]
  },
  {
   "cell_type": "code",
   "execution_count": null,
   "id": "bbef9fff",
   "metadata": {},
   "outputs": [],
   "source": [
    "To create a tuple value that only contains the integer 42, you can use parentheses () and separate the element with a comma ,:\n",
    "    my_tuple = (42,)\n",
    "The comma after the 42 is essential to distinguish it as a single-element tuple. Without the comma, \n",
    "Python would interpret it as an integer."
   ]
  },
  {
   "cell_type": "code",
   "execution_count": null,
   "id": "b8d4e92f",
   "metadata": {},
   "outputs": [],
   "source": [
    "15. How do you get a list value's tuple form? How do you get a tuple value's list form?"
   ]
  },
  {
   "cell_type": "code",
   "execution_count": null,
   "id": "d4a184c1",
   "metadata": {
    "scrolled": true
   },
   "outputs": [],
   "source": [
    "To convert a list to a tuple, you can use the tuple() function and pass the list as an argument:\n",
    "my_list = [1, 2, 3]\n",
    "my_tuple = tuple(my_list)\n",
    "\n",
    "To convert a tuple to a list, you can use the list() function and pass the tuple as an argument:\n",
    "my_tuple = (1, 2, 3)\n",
    "my_list = list(my_tuple)\n"
   ]
  },
  {
   "cell_type": "code",
   "execution_count": null,
   "id": "927aa47e",
   "metadata": {},
   "outputs": [],
   "source": [
    "16. Variables that \"contain\" list values are not necessarily lists themselves. Instead, what do they\n",
    "contain?"
   ]
  },
  {
   "cell_type": "code",
   "execution_count": null,
   "id": "7ac78a3e",
   "metadata": {},
   "outputs": [],
   "source": [
    "Variables that \"contain\" list values in Python actually contain references or pointers to the list objects in memory. \n",
    "In other words, the variables store the memory address of the list object rather than directly containing the list itself."
   ]
  },
  {
   "cell_type": "code",
   "execution_count": null,
   "id": "43467d56",
   "metadata": {},
   "outputs": [],
   "source": [
    "17. How do you distinguish between copy.copy() and copy.deepcopy()?"
   ]
  },
  {
   "cell_type": "code",
   "execution_count": null,
   "id": "b4fb59b8",
   "metadata": {},
   "outputs": [],
   "source": [
    "The copy.copy() function in the copy module creates a shallow copy of an object. Shallow copy means that a \n",
    "new object is created, but its elements are references to the original object's elements. Changes to the original \n",
    "object's elements may be reflected in the copied object.\n",
    "\n",
    "The copy.deepcopy() function, also from the copy module, creates a deep copy of an object. Deep copy creates a new \n",
    "object and recursively copies all elements and sub-elements. The copied object is independent of the original object, \n",
    "and changes to the original object's elements are not reflected in the deep copy."
   ]
  }
 ],
 "metadata": {
  "kernelspec": {
   "display_name": "Python 3 (ipykernel)",
   "language": "python",
   "name": "python3"
  },
  "language_info": {
   "codemirror_mode": {
    "name": "ipython",
    "version": 3
   },
   "file_extension": ".py",
   "mimetype": "text/x-python",
   "name": "python",
   "nbconvert_exporter": "python",
   "pygments_lexer": "ipython3",
   "version": "3.9.7"
  }
 },
 "nbformat": 4,
 "nbformat_minor": 5
}
