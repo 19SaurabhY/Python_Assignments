{
 "cells": [
  {
   "cell_type": "markdown",
   "id": "fbc58eae",
   "metadata": {},
   "source": [
    "# Python_Assignment_3"
   ]
  },
  {
   "cell_type": "code",
   "execution_count": null,
   "id": "7a84b175",
   "metadata": {},
   "outputs": [],
   "source": [
    "1. Why are functions advantageous to have in your programs?"
   ]
  },
  {
   "cell_type": "code",
   "execution_count": null,
   "id": "493cdb18",
   "metadata": {},
   "outputs": [],
   "source": [
    "Functions offer several advantages when incorporated into programs:\n",
    "\n",
    "1. **Modularity and Reusability**: Functions allow you to break down complex programs into smaller, more manageable modules. \n",
    "    You can encapsulate specific functionality within a function, making the code more organized and easier to understand. \n",
    "    Functions can be reused in different parts of a program or in other programs, reducing redundancy and promoting code reuse.\n",
    "\n",
    "2. **Code Organization**: Functions help in structuring code by separating different tasks or operations into distinct units. \n",
    "    This improves readability and maintainability, as you can focus on one specific function at a time rather than dealing \n",
    "    with the entire program as a monolithic entity.\n",
    "\n",
    "3. **Abstraction**: Functions allow you to abstract away the implementation details of a particular functionality. \n",
    "    By providing a clear interface and hiding the internal implementation, you can simplify the usage of the function. \n",
    "    This enables you and other developers to use functions without worrying about the underlying code, enhancing code \n",
    "    maintainability and reducing errors.\n",
    "\n",
    "4. **Code Reusability**: Functions provide a way to reuse code across different parts of a program or even in different \n",
    "    programs. Once a function is defined, it can be called multiple times with different inputs, promoting code efficiency \n",
    "    and reducing code duplication. This reusability saves time and effort when implementing common or repetitive tasks.\n",
    "\n",
    "5. **Readability and Maintainability**: Well-defined functions with clear names and limited scope make code more readable \n",
    "    and easier to comprehend. Functions promote the use of modular, self-contained blocks of code, which can be individually \n",
    "    tested, maintained, and updated without affecting the rest of the program. This enhances code maintainability and \n",
    "    reduces the chances of introducing bugs when making changes.\n",
    "\n",
    "6. **Encapsulation**: Functions provide a level of encapsulation by creating separate scopes for variables. Variables \n",
    "    defined within a function have local scope and are not accessible outside the function unless specifically exposed. \n",
    "    This helps in preventing unintended interactions or modifications of variables from other parts of the program, \n",
    "    improving code stability and reliability.\n",
    "\n",
    "7. **Testing and Debugging**: Functions make testing and debugging easier. By isolating functionality within functions, \n",
    "    you can write focused tests for each function independently, making it simpler to identify and fix issues. \n",
    "    Isolated functions allow you to trace and debug specific parts of your code without the need to examine the entire program.\n",
    "\n",
    "Overall, functions promote code modularity, reusability, readability, and maintainability, making programs more efficient, \n",
    "scalable, and manageable. They enable better organization and abstraction of code, leading to improved development \n",
    "productivity and code quality."
   ]
  },
  {
   "cell_type": "code",
   "execution_count": null,
   "id": "f0cf13b1",
   "metadata": {},
   "outputs": [],
   "source": [
    "2. When does the code in a function run: when its specified or when its called?"
   ]
  },
  {
   "cell_type": "code",
   "execution_count": null,
   "id": "6c8c9d7d",
   "metadata": {},
   "outputs": [],
   "source": [
    "The code inside a function runs when the function is called, not when it is specified or defined.\n",
    "\n",
    "When you define a function in Python using the `def` statement, you are essentially creating a named block \n",
    "of code that specifies the operations to be performed when the function is called. The code inside the function \n",
    "is not executed at the time of function definition; \n",
    "it is executed only when the function is called elsewhere in the program.\n",
    "\n",
    "Here's an example to illustrate this:\n",
    "\n",
    "```python\n",
    "def greet():\n",
    "    print(\"Hello, World!\")\n",
    "\n",
    "print(\"Before function call\")\n",
    "greet()  # Function call\n",
    "print(\"After function call\")\n",
    "```\n",
    "\n",
    "In this example, the function `greet()` is defined to print the message \"Hello, World!\". \n",
    "However, the actual execution of the code within the function occurs when the function is called \n",
    "using the statement `greet()`. The output of the program would be:\n",
    "\n",
    "```\n",
    "Before function call\n",
    "Hello, World!\n",
    "After function call\n",
    "```\n",
    "\n",
    "As you can see, the code inside the `greet()` function runs only when it is called, not when it is \n",
    "specified or defined. The function call triggers the execution of the function's code, and the program \n",
    "flow returns to the point of the function call after the function completes its execution."
   ]
  },
  {
   "cell_type": "code",
   "execution_count": null,
   "id": "e27ea79b",
   "metadata": {},
   "outputs": [],
   "source": [
    "3. What statement creates a function?"
   ]
  },
  {
   "cell_type": "code",
   "execution_count": null,
   "id": "1bfcf82d",
   "metadata": {},
   "outputs": [],
   "source": [
    "In Python, the `def` statement is used to create a function. The `def` statement is followed by the function name, \n",
    "a set of parentheses, and a colon. This is known as a function definition and specifies the code that will \n",
    "be executed when the function is called.\n",
    "\n",
    "Here's the basic syntax for creating a function using the `def` statement:\n",
    "\n",
    "```\n",
    "def function_name(parameters):\n",
    "    # Function code goes here\n",
    "    # ...\n",
    "```\n",
    "\n",
    "Let's see an example:\n",
    "\n",
    "```\n",
    "def greet(name):\n",
    "    print(\"Hello, \" + name + \"!\")\n",
    "\n",
    "# Function call\n",
    "greet(\"Alice\")\n",
    "```\n",
    "\n",
    "In this example, the `def` statement creates a function named `greet` that takes one parameter called `name`. \n",
    "The code inside the function (indented under the `def` statement) specifies that the function should print a \n",
    "greeting message using the provided name. When the function is called with `\"Alice\"` as an argument (`greet(\"Alice\")`), \n",
    "it prints `\"Hello, Alice!\"` as output.\n",
    "\n",
    "The `def` statement is the fundamental building block for defining functions in Python. It allows you to encapsulate \n",
    "a set of operations or code into a named entity that can be reused and invoked at different parts of the program."
   ]
  },
  {
   "cell_type": "code",
   "execution_count": null,
   "id": "25c1c846",
   "metadata": {},
   "outputs": [],
   "source": [
    "4. What is the difference between a function and a function call?"
   ]
  },
  {
   "cell_type": "code",
   "execution_count": null,
   "id": "30581f82",
   "metadata": {},
   "outputs": [],
   "source": [
    "The difference between a function and a function call lies in their respective roles and behaviors in a program:\n",
    "\n",
    "1. **Function**: A function is a reusable block of code that performs a specific task or a set of operations. \n",
    "    It is defined using the `def` keyword in Python and can have parameters (inputs) and a return value (output). \n",
    "Functions encapsulate a series of instructions and can be invoked (called) from different parts of a program. \n",
    "They help organize code, improve reusability, \n",
    "and promote modular programming.\n",
    "\n",
    "   Example of a function definition:\n",
    "   ```\n",
    "   def add_numbers(a, b):\n",
    "       return a + b\n",
    "   ```\n",
    "\n",
    "2. **Function Call**: A function call is the act of invoking or executing a function. \n",
    "    It is the mechanism through which the program transfers control to the function and \n",
    "    allows the function's code to be executed. When a function call is encountered, the program \n",
    "    temporarily suspends the current execution and starts executing the function's code. The function \n",
    "    call typically includes passing arguments (values) to the function if required.\n",
    "\n",
    "   Example of a function call:\n",
    "   ```\n",
    "   result = add_numbers(3, 4)\n",
    "   ```\n",
    "\n",
    "   In this example, `add_numbers(3, 4)` is a function call that passes the values `3` and `4` as arguments to \n",
    "    the `add_numbers()` function. The function call evaluates to the return value of the function and can be \n",
    "assigned to a variable (`result` in this case) or used directly in expressions.\n",
    "\n",
    "In summary, a function is a defined block of code that specifies a particular operation, while a function \n",
    "call is the act of invoking or executing that function with specific arguments. A function call allows the \n",
    "program to execute the code within the function and obtain the result returned by the function, if any."
   ]
  },
  {
   "cell_type": "code",
   "execution_count": null,
   "id": "c4efbb37",
   "metadata": {},
   "outputs": [],
   "source": [
    "5. How many global scopes are there in a Python program? How many local scopes?"
   ]
  },
  {
   "cell_type": "code",
   "execution_count": null,
   "id": "b4111e54",
   "metadata": {},
   "outputs": [],
   "source": [
    "In a Python program, there is typically only one global scope, which is the top-level scope of the program. \n",
    "It is the outermost scope and encompasses the entire program. Variables defined in the global scope \n",
    "are accessible from anywhere within the program, including inside functions and other scopes.\n",
    "\n",
    "However, the number of local scopes in a Python program can vary depending on the number of functions \n",
    "or code blocks present. Each function call and code block introduces a new local scope. Local scopes \n",
    "are created dynamically during program execution and are temporary workspaces for variables specific \n",
    "to their respective functions or code blocks.\n",
    "\n",
    "Consider the following example:\n",
    "\n",
    "```python\n",
    "def my_function():\n",
    "    local_var = 1\n",
    "    print(local_var)\n",
    "\n",
    "my_function()\n",
    "\n",
    "if True:\n",
    "    another_var = 2\n",
    "    print(another_var)\n",
    "```\n",
    "\n",
    "In this example, we have two local scopes. The `my_function()` defines a local scope with a \n",
    "variable `local_var`. When the function is called, it enters its local scope, executes the code within, \n",
    "and the local variable is accessible.\n",
    "\n",
    "Similarly, the `if` statement introduces another local scope with the variable `another_var`. \n",
    "When the condition is met, the code block is executed, and the local variable is accessible within that block.\n",
    "\n",
    "It's important to note that local scopes are created dynamically and are specific to their \n",
    "respective functions or code blocks. Once a function call or code block completes, the local scope\n",
    "and its variables are deallocated and no longer accessible."
   ]
  },
  {
   "cell_type": "code",
   "execution_count": null,
   "id": "c49b8c92",
   "metadata": {},
   "outputs": [],
   "source": [
    "6. What happens to variables in a local scope when the function call returns?"
   ]
  },
  {
   "cell_type": "code",
   "execution_count": null,
   "id": "9d4c24e7",
   "metadata": {},
   "outputs": [],
   "source": [
    "When a function call returns, the variables in the local scope of that function are deallocated and cease to exist. \n",
    "They are no longer accessible or available for use outside the function.\n",
    "\n",
    "In Python, each function call creates a new local scope, which is a temporary workspace for variables and \n",
    "objects specific to that function's execution. These local variables are created when the function is called and are \n",
    "destroyed when the function call returns or completes.\n",
    "\n",
    "Here's an example to illustrate this behavior:\n",
    "\n",
    "```\n",
    "def my_function():\n",
    "    local_variable = 10\n",
    "    print(local_variable)\n",
    "\n",
    "my_function()\n",
    "print(local_variable)  # Raises NameError: name 'local_variable' is not defined\n",
    "```\n",
    "\n",
    "In this example, the `my_function()` defines a local variable named `local_variable` and prints its value. \n",
    "When we call `my_function()`, it prints the value of `local_variable` successfully because it is within the \n",
    "local scope of the function.\n",
    "\n",
    "However, when we try to access `local_variable` outside the function, it raises a `NameError` because \n",
    "`local_variable` is not defined in the global scope. The variable was limited to the local scope of the \n",
    "function and does not exist once the function call completes.\n",
    "\n",
    "It's important to note that global variables or variables defined in enclosing scopes (e.g., variables in \n",
    "the outer function if there is nested function definition) are not affected by this behavior. They retain \n",
    "their values and continue to be accessible after the function call returns."
   ]
  },
  {
   "cell_type": "code",
   "execution_count": null,
   "id": "85022cc1",
   "metadata": {},
   "outputs": [],
   "source": [
    "7. What is the concept of a return value? Is it possible to have a return value in an expression?"
   ]
  },
  {
   "cell_type": "code",
   "execution_count": null,
   "id": "0bf0b43b",
   "metadata": {},
   "outputs": [],
   "source": [
    "The concept of a return value refers to the value that a function provides back to the caller after executing its code. \n",
    "When a function is called, it may perform certain operations, manipulate data, or compute a result. \n",
    "The return value allows the function to communicate and pass that result or data back to the caller.\n",
    "\n",
    "The return value of a function can be any valid Python data type, such as numbers, strings, lists, \n",
    "dictionaries, or even custom objects. It provides a way for functions to produce output or return \n",
    "calculated values that can be further used or assigned within the calling code.\n",
    "\n",
    "For example, consider a function that calculates the square of a number:\n",
    "\n",
    "```\n",
    "def square(x):\n",
    "    return x * x\n",
    "```\n",
    "\n",
    "In this case, the `square()` function takes an input `x` and returns the square of `x` by multiplying \n",
    "it with itself. The return value of this function is obtained using the `return` statement, which passes \n",
    "the computed result back to the caller.\n",
    "\n",
    "Yes, it is possible to have a return value in an expression. Python allows you to use function calls and \n",
    "their return values directly within expressions or assign them to variables. This allows for concise and \n",
    "expressive code. Here's an example:\n",
    "\n",
    "```\n",
    "def multiply(a, b):\n",
    "    return a * b\n",
    "\n",
    "result = multiply(3, 4) + 2\n",
    "\n",
    "print(result)  # Output: 14\n",
    "```\n",
    "\n",
    "In this example, the `multiply()` function returns the product of two numbers. The return value \n",
    "of `multiply(3, 4)` is then used in an expression by adding 2 to it. The final result, 14, is obtained by \n",
    "evaluating the expression `multiply(3, 4) + 2`.\n",
    "\n",
    "So, return values can be used in various ways, including direct use in expressions, assignment to variables, \n",
    "or passing as arguments to other functions."
   ]
  },
  {
   "cell_type": "code",
   "execution_count": null,
   "id": "2712a9c6",
   "metadata": {},
   "outputs": [],
   "source": [
    "8. If a function does not have a return statement, what is the return value of a call to that function?"
   ]
  },
  {
   "cell_type": "code",
   "execution_count": null,
   "id": "2ba3f5ff",
   "metadata": {},
   "outputs": [],
   "source": [
    "If a function does not have a return statement, the return value of a call to that function is `None`. \n",
    "\n",
    "In Python, when a function reaches the end without encountering a return statement, or if the function \n",
    "explicitly ends without returning a value, it automatically returns `None`. `None` represents the absence of a value.\n",
    "\n",
    "Here's an example:\n",
    "\n",
    "```python\n",
    "def my_function():\n",
    "    # Function code without a return statement\n",
    "\n",
    "result = my_function()\n",
    "print(result)\n",
    "```\n",
    "\n",
    "In this example, the function `my_function()` does not have a return statement. When we call `my_function()`, \n",
    "it executes the code within the function and then implicitly returns `None`. The `print(result)` \n",
    "statement outputs `None` because that is the value returned by the function.\n",
    "\n",
    "If you want a function to return a specific value, you need to include a return statement with the desired value. \n",
    "For example:\n",
    "\n",
    "```python\n",
    "def add_numbers(a, b):\n",
    "    return a + b\n",
    "\n",
    "result = add_numbers(3, 4)\n",
    "print(result)  # Output: 7\n",
    "```\n",
    "\n",
    "In this case, the `add_numbers()` function returns the sum of its arguments using the return statement. \n",
    "The value returned by the function is then assigned to the `result` variable, which can be printed or used \n",
    "in other parts of the program."
   ]
  },
  {
   "cell_type": "code",
   "execution_count": null,
   "id": "daddac04",
   "metadata": {},
   "outputs": [],
   "source": [
    "9. How do you make a function variable refer to the global variable?"
   ]
  },
  {
   "cell_type": "code",
   "execution_count": null,
   "id": "8aba1420",
   "metadata": {},
   "outputs": [],
   "source": [
    "In Python, you can make a function variable refer to the global variable by using the `global` \n",
    "keyword within the function. The `global` keyword tells the function that a particular variable is referring to a global \n",
    "variable instead of creating a new local variable within the function's scope.\n",
    "\n",
    "Here's an example to demonstrate how to make a function variable refer to a global variable:\n",
    "\n",
    "```\n",
    "my_global_variable = 10\n",
    "\n",
    "def my_function():\n",
    "    global my_global_variable  # Declare the variable as global\n",
    "    my_global_variable += 5    # Modify the global variable\n",
    "\n",
    "print(my_global_variable)     # Output: 10\n",
    "my_function()\n",
    "print(my_global_variable)     # Output: 15\n",
    "```\n",
    "\n",
    "In this example, `my_global_variable` is defined outside the function. By using the `global` keyword within \n",
    "`my_function`, we inform the function that we want to modify the global variable `my_global_variable` rather\n",
    "than creating a new local variable. After calling `my_function()`, the value of `my_global_variable` is updated \n",
    "to 15 because the function modified the global variable."
   ]
  },
  {
   "cell_type": "code",
   "execution_count": null,
   "id": "c6a1f43d",
   "metadata": {},
   "outputs": [],
   "source": [
    "10. What is the data type of None?"
   ]
  },
  {
   "cell_type": "code",
   "execution_count": null,
   "id": "b09f56d6",
   "metadata": {},
   "outputs": [],
   "source": [
    "In Python, `None` is a special constant representing the absence of a value or the lack of any particular data type. \n",
    "It is often used to indicate the absence of a meaningful result or as a placeholder when a variable or \n",
    "object doesn't have a value assigned.\n",
    "\n",
    "The data type of `None` is called `NoneType`. It is a built-in type in Python that has only one value, \n",
    "which is `None`. You can check the type of `None` using the `type()` function:\n",
    "\n",
    "```\n",
    "print(type(None))\n",
    "```\n",
    "\n",
    "The output will be:\n",
    "\n",
    "```\n",
    "<class 'NoneType'>\n",
    "```"
   ]
  },
  {
   "cell_type": "code",
   "execution_count": null,
   "id": "1559ff12",
   "metadata": {},
   "outputs": [],
   "source": [
    "11. What does the sentence import areallyourpetsnamederic do?"
   ]
  },
  {
   "cell_type": "code",
   "execution_count": null,
   "id": "2fd7f463",
   "metadata": {},
   "outputs": [],
   "source": [
    "The sentence import areallyourpetsnamederic does not have a predefined meaning in the context of the \n",
    "Python programming language.\n",
    "\n",
    "In Python, the import statement is used to bring modules or packages into your program's namespace, \n",
    "allowing you to use their features and functions. However, \n",
    "areallyourpetsnamederic does not refer to any standard Python module or package."
   ]
  },
  {
   "cell_type": "code",
   "execution_count": null,
   "id": "23280748",
   "metadata": {},
   "outputs": [],
   "source": [
    "12. If you had a bacon() feature in a spam module, what would you call it after importing spam?"
   ]
  },
  {
   "cell_type": "code",
   "execution_count": null,
   "id": "18be2d54",
   "metadata": {},
   "outputs": [],
   "source": [
    "If you import a module named `spam` that contains a feature named `bacon()`, you can access and call \n",
    "the `bacon()` feature using the following syntax:\n",
    "\n",
    "```\n",
    "import spam\n",
    "\n",
    "spam.bacon()\n",
    "```\n",
    "\n",
    "In this case, you would call the `bacon()` feature using `spam.bacon()`, where `spam` is the \n",
    "name of the imported module, and `bacon()` is the feature within that module."
   ]
  },
  {
   "cell_type": "code",
   "execution_count": null,
   "id": "d40752dd",
   "metadata": {},
   "outputs": [],
   "source": [
    "13. What can you do to save a programme from crashing if it encounters an error?"
   ]
  },
  {
   "cell_type": "code",
   "execution_count": null,
   "id": "a360f670",
   "metadata": {},
   "outputs": [],
   "source": [
    "To save a program from crashing when it encounters an error, you can use exception handling techniques. \n",
    "Here are some approaches you can take:\n",
    "\n",
    "1. **Try-Except**: Wrap the code that might raise an exception within a `try` block and handle the \n",
    "    exception in an `except` block. This allows you to catch and handle specific exceptions gracefully \n",
    "    without the program terminating abruptly.\n",
    "\n",
    "```\n",
    "try:\n",
    "    # Code that might raise an exception\n",
    "    # ...\n",
    "except SpecificException:\n",
    "    # Code to handle the specific exception\n",
    "    # ...\n",
    "except AnotherException:\n",
    "    # Code to handle another specific exception\n",
    "    # ...\n",
    "```\n",
    "\n",
    "2. **Error Checking**: Perform error checks on inputs, variables, or conditions before executing critical operations. \n",
    "    By validating inputs or ensuring certain conditions are met, you can prevent errors from occurring or handle \n",
    "    them appropriately before they cause crashes.\n",
    "\n",
    "```\n",
    "# Example of error checking\n",
    "if denominator != 0:\n",
    "    result = numerator / denominator\n",
    "else:\n",
    "    # Handle the division by zero case\n",
    "    # ...\n",
    "```\n"
   ]
  },
  {
   "cell_type": "code",
   "execution_count": null,
   "id": "ef5030d8",
   "metadata": {},
   "outputs": [],
   "source": [
    "14. What is the purpose of the try clause? What is the purpose of the except clause?"
   ]
  },
  {
   "cell_type": "code",
   "execution_count": null,
   "id": "7bac2f42",
   "metadata": {},
   "outputs": [],
   "source": [
    "In programming, the try and except clauses are used in exception handling, a mechanism that allows you to \n",
    "handle and manage errors or exceptional events that may occur during the execution of a program.\n",
    "\n",
    "The purpose of the try clause is to enclose a block of code that might potentially raise an exception. \n",
    "By placing the code within a try block, you are indicating to the program that it should attempt to execute that code, \n",
    "even if an exception occurs. The try block is followed by one or more except clauses.\n",
    "\n",
    "The purpose of the except clause is to define the actions to be taken if a specific exception occurs within \n",
    "the corresponding try block. Each except clause specifies a particular type of exception that it can handle. \n",
    "If an exception of the specified type is raised within the try block, the corresponding except block is executed. \n",
    "The except block allows you to gracefully handle the exception by providing alternative code to be executed or \n",
    "displaying an error message, preventing the program from abruptly terminating.\n",
    "\n",
    "Here's a basic example to illustrate the usage of try and except:\n",
    "try:\n",
    "    # Code that might raise an exception\n",
    "    result = 10 / 0  # Division by zero exception\n",
    "except ZeroDivisionError:\n",
    "    # Code to handle the ZeroDivisionError\n",
    "    print(\"Error: Division by zero is not allowed.\")\n"
   ]
  },
  {
   "cell_type": "code",
   "execution_count": 3,
   "id": "ca073f60",
   "metadata": {},
   "outputs": [
    {
     "name": "stdout",
     "output_type": "stream",
     "text": [
      "Hi, this is our 3rd week\n"
     ]
    }
   ],
   "source": [
    "def MyFirstFunc():\n",
    "    print('Hi, this is our 3rd week')\n",
    "    \n",
    "MyFirstFunc()"
   ]
  },
  {
   "cell_type": "code",
   "execution_count": 12,
   "id": "69dcb303",
   "metadata": {},
   "outputs": [
    {
     "name": "stdout",
     "output_type": "stream",
     "text": [
      "saurabh is a good student\n"
     ]
    }
   ],
   "source": [
    "def Students(name):\n",
    "    print(name + ' is a good student')\n",
    "Students('saurabh')"
   ]
  }
 ],
 "metadata": {
  "kernelspec": {
   "display_name": "Python 3 (ipykernel)",
   "language": "python",
   "name": "python3"
  },
  "language_info": {
   "codemirror_mode": {
    "name": "ipython",
    "version": 3
   },
   "file_extension": ".py",
   "mimetype": "text/x-python",
   "name": "python",
   "nbconvert_exporter": "python",
   "pygments_lexer": "ipython3",
   "version": "3.9.7"
  }
 },
 "nbformat": 4,
 "nbformat_minor": 5
}
