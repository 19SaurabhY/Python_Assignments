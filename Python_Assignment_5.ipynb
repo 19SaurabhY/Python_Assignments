{
 "cells": [
  {
   "cell_type": "markdown",
   "id": "92f47276",
   "metadata": {},
   "source": [
    "# Python_Assignment_5"
   ]
  },
  {
   "cell_type": "code",
   "execution_count": 4,
   "id": "7e50f9d7",
   "metadata": {},
   "outputs": [],
   "source": [
    "1. What does an empty dictionary's code look like?\n",
    "2. What is the value of a dictionary value with the key 'foo' and the value 42?\n",
    "3. What is the most significant distinction between a dictionary and a list?\n",
    "4. What happens if you try to access spam['foo'] if spam is {'bar': 100}?\n",
    "5. If a dictionary is stored in spam, what is the difference between the expressions 'cat' in spam and\n",
    "'cat' in spam.keys()?\n",
    "6. If a dictionary is stored in spam, what is the difference between the expressions 'cat' in spam and\n",
    "'cat' in spam.values()?\n",
    "7. What is a shortcut for the following code?\n",
    "if 'color' not in spam:\n",
    "spam['color'] = 'black'\n",
    "8. How do you \"pretty print\" dictionary values using which module and function?"
   ]
  },
  {
   "cell_type": "code",
   "execution_count": null,
   "id": "81f3bcdb",
   "metadata": {},
   "outputs": [],
   "source": [
    "1. What does an empty dictionary's code look like?"
   ]
  },
  {
   "cell_type": "code",
   "execution_count": null,
   "id": "aae2bc60",
   "metadata": {},
   "outputs": [],
   "source": [
    "An empty dictionary's code looks like this: {}. It consists of a pair of curly braces with nothing inside, \n",
    "indicating that the dictionary is empty."
   ]
  },
  {
   "cell_type": "code",
   "execution_count": null,
   "id": "8cb637b5",
   "metadata": {},
   "outputs": [],
   "source": [
    "2. What is the value of a dictionary value with the key 'foo' and the value 42?"
   ]
  },
  {
   "cell_type": "code",
   "execution_count": null,
   "id": "c8a3422b",
   "metadata": {},
   "outputs": [],
   "source": [
    "The value of a dictionary value with the key 'foo' and the value 42 would be 42. \n",
    "In a dictionary, values are accessed using their corresponding keys. So, if you access the\n",
    "value associated with the key 'foo', it would be 42."
   ]
  },
  {
   "cell_type": "code",
   "execution_count": null,
   "id": "4c6f2bc3",
   "metadata": {},
   "outputs": [],
   "source": [
    "3. What is the most significant distinction between a dictionary and a list?"
   ]
  },
  {
   "cell_type": "code",
   "execution_count": null,
   "id": "31f94b57",
   "metadata": {},
   "outputs": [],
   "source": [
    "The most significant distinction between a dictionary and a list is their structure and purpose.\n",
    "\n",
    "-A dictionary is an unordered collection of key-value pairs. It allows you to store and retrieve data based on keys. \n",
    " Each key in a dictionary must be unique, and it provides fast access to values using the keys.\n",
    "\n",
    "-A list, on the other hand, is an ordered collection of elements. It allows you to store and access data based on indices. \n",
    " List elements can be of any data type, and duplicate values are allowed."
   ]
  },
  {
   "cell_type": "code",
   "execution_count": null,
   "id": "4ec646cb",
   "metadata": {},
   "outputs": [],
   "source": [
    "4. What happens if you try to access spam['foo'] if spam is {'bar': 100}?"
   ]
  },
  {
   "cell_type": "code",
   "execution_count": null,
   "id": "c0008334",
   "metadata": {},
   "outputs": [],
   "source": [
    "If you try to access spam['foo'] and spam is {'bar': 100}, you will get a KeyError because the key 'foo' does not exist \n",
    "in the dictionary spam. When accessing dictionary values using keys, the specified key must exist in the dictionary; \n",
    "otherwise, it will raise a KeyError."
   ]
  },
  {
   "cell_type": "code",
   "execution_count": null,
   "id": "be247a79",
   "metadata": {},
   "outputs": [],
   "source": [
    "5. If a dictionary is stored in spam, what is the difference between the expressions 'cat' in spam and\n",
    "'cat' in spam.keys()?"
   ]
  },
  {
   "cell_type": "code",
   "execution_count": null,
   "id": "c106dd5e",
   "metadata": {},
   "outputs": [],
   "source": [
    "In the context of a dictionary spam, the expression 'cat' in spam checks if the key 'cat' exists in the dictionary. \n",
    "It returns True if the key is present and False otherwise.\n",
    "\n",
    "The expression 'cat' in spam.keys() is functionally equivalent to the previous expression. It checks if the key 'cat'\n",
    "exists in the list of keys obtained from spam.keys(). Both expressions determine the presence of the key 'cat' in the \n",
    "dictionary spam."
   ]
  },
  {
   "cell_type": "code",
   "execution_count": null,
   "id": "a7046981",
   "metadata": {},
   "outputs": [],
   "source": [
    "6. If a dictionary is stored in spam, what is the difference between the expressions 'cat' in spam and\n",
    "'cat' in spam.values()?"
   ]
  },
  {
   "cell_type": "code",
   "execution_count": null,
   "id": "2c0212c9",
   "metadata": {},
   "outputs": [],
   "source": [
    "In the context of a dictionary spam, the expression 'cat' in spam checks if the value 'cat' exists \n",
    "in any of the values stored in the dictionary. It returns True if the value is present and False otherwise.\n",
    "\n",
    "The expression 'cat' in spam.values() checks if the value 'cat' exists in the list of values obtained \n",
    "from spam.values(). Both expressions determine the presence of the value 'cat' in the dictionary spam."
   ]
  },
  {
   "cell_type": "code",
   "execution_count": null,
   "id": "b4c3e29e",
   "metadata": {},
   "outputs": [],
   "source": [
    "7. What is a shortcut for the following code?\n",
    "if 'color' not in spam:\n",
    "spam['color'] = 'black'"
   ]
  },
  {
   "cell_type": "code",
   "execution_count": null,
   "id": "1cd32175",
   "metadata": {},
   "outputs": [],
   "source": [
    "A shortcut for the given code is to use the setdefault() method. The setdefault() method allows you to set a \n",
    "default value for a key if it doesn't already exist in the dictionary.\n",
    "\n",
    "The shortcut for the given code is:\n",
    " spam.setdefault('color', 'black')\n",
    "\n",
    "This code checks if the key 'color' is present in the spam dictionary. If it is not present, it sets the \n",
    "key 'color' with the value 'black'. If the key is already present, it does not modify the existing value."
   ]
  },
  {
   "cell_type": "code",
   "execution_count": null,
   "id": "3756b92a",
   "metadata": {},
   "outputs": [],
   "source": [
    "8. How do you \"pretty print\" dictionary values using which module and function?"
   ]
  },
  {
   "cell_type": "code",
   "execution_count": null,
   "id": "f9db3705",
   "metadata": {},
   "outputs": [],
   "source": [
    "To \"pretty print\" dictionary values in a well-formatted and readable way, you can use the pprint module's pprint() function.\n",
    "The pprint() function stands for \"pretty print\" and provides an easy way to print complex data structures such as dictionaries.\n",
    "\n",
    "To use pprint to pretty print a dictionary, you would import the pprint module and call the pprint() function,\n",
    "passing the dictionary as an argument:\n",
    "    \n",
    "import pprint\n",
    "\n",
    "my_dict = {'key1': 'value1', 'key2': 'value2', 'key3': 'value3'}\n",
    "pprint.pprint(my_dict)\n",
    "\n",
    "This will print the dictionary my_dict in a visually pleasing and well-organized format.\n"
   ]
  }
 ],
 "metadata": {
  "kernelspec": {
   "display_name": "Python 3 (ipykernel)",
   "language": "python",
   "name": "python3"
  },
  "language_info": {
   "codemirror_mode": {
    "name": "ipython",
    "version": 3
   },
   "file_extension": ".py",
   "mimetype": "text/x-python",
   "name": "python",
   "nbconvert_exporter": "python",
   "pygments_lexer": "ipython3",
   "version": "3.9.7"
  }
 },
 "nbformat": 4,
 "nbformat_minor": 5
}
