{
 "cells": [
  {
   "cell_type": "code",
   "execution_count": null,
   "id": "f9b51b14",
   "metadata": {},
   "outputs": [],
   "source": [
    "1. In the below elements which of them are values or an expression? eg:- values can be integer or string and expressions \n",
    "    will be mathematical operators.\n",
    "* \n",
    "'hello'\n",
    "-87.8\n",
    "- \n",
    "/ \n",
    "+\t\n",
    "6 "
   ]
  },
  {
   "cell_type": "code",
   "execution_count": null,
   "id": "6c82283c",
   "metadata": {},
   "outputs": [],
   "source": [
    "'hello' (string value)\n",
    "-87.8 (floating value)\n",
    "6 (integer value)\n",
    "*,-,/,+ (multiplication, substraction, division, addition are all expressions resp.)"
   ]
  },
  {
   "cell_type": "code",
   "execution_count": null,
   "id": "f887a281",
   "metadata": {},
   "outputs": [],
   "source": [
    "2. What is the difference between string and variable?"
   ]
  },
  {
   "cell_type": "raw",
   "id": "52779c67",
   "metadata": {},
   "source": [
    " String:\n",
    "\n",
    "1) A string is a data type in programming that represents a sequence of characters. \n",
    "2) It is used to store and manipulate textual data.\n",
    "3) Strings are enclosed in quotes, either single quotes (' ') or double quotes (\" \"), in Python.\n",
    "4) Examples of strings: \"Hello, World!\", \"Python is awesome!\", \"42\".\n",
    "\n",
    "Variable:\n",
    "\n",
    "1) A variable is a named storage location in computer memory that can hold a value.\n",
    "2) Variables are used to store data and provide a way to refer to that data by a name or identifier.\n",
    "3) Unlike strings, variables are not limited to storing only textual data; they can hold values of various data types, \n",
    "including strings.\n",
    "4) Variables can be assigned different values throughout the program, and their values can be modified or accessed as needed.\n",
    "5) Examples of variables: name, age, etc."
   ]
  },
  {
   "cell_type": "code",
   "execution_count": null,
   "id": "6eca849b",
   "metadata": {},
   "outputs": [],
   "source": [
    "3. Describe three different data types."
   ]
  },
  {
   "cell_type": "raw",
   "id": "03464c92",
   "metadata": {},
   "source": [
    "Data types in python-\n",
    "\n",
    "Numeric - int, float, complex\n",
    "text - str\n",
    "Sequence Type - list, tuple, range\n",
    "Mapping - dict\n",
    "Set types - set, frozenset\n",
    "Boolean - True, False\n",
    "Binary - bytes\n",
    "\n",
    "1) Numeric Types:\n",
    "    Integer (int): Represents whole numbers, such as 42 or -10.\n",
    "    Floating-Point (float): Represents decimal numbers, such as 3.14 or -2.5.\n",
    "    Complex (complex): Represents numbers with both a real and imaginary part, such as 2 + 3j or -1.5 - 2j.\n",
    "\n",
    "2) Text Type:\n",
    "    String (str): Represents a sequence of characters enclosed in quotes, such as \"Hello\" or 'Python'.\n",
    "    \n",
    "3) Sequence Types:\n",
    "    List (list): Represents an ordered collection of items, which can be of any type. Lists are mutable, \n",
    "        meaning their elements can be modified.\n",
    "    Tuple (tuple): Represents an ordered collection of items, similar to lists. However, \n",
    "        tuples are immutable, meaning their elements cannot be changed once defined.\n",
    "    Range (range): Represents a sequence of numbers.\n",
    "\n",
    "4)Mapping Type:\n",
    "    Dictionary (dict): Represents a collection of key-value pairs. Dictionaries are unordered and mutable.\n",
    "\n",
    "5) Set Types:\n",
    "    Set (set): Represents an unordered collection of unique elements. Sets do not allow duplicate values.\n",
    "    FrozenSet (frozenset): Represents an immutable version of a set.\n",
    "        \n",
    "6) Boolean Type:\n",
    "    Boolean (bool): Represents a logical value, either True or False. Booleans are often the result of \n",
    "        comparison or logical operations.\n",
    "\n",
    "7) None Type:\n",
    "    None (NoneType): Represents the absence of a value or a null value."
   ]
  },
  {
   "cell_type": "code",
   "execution_count": null,
   "id": "c4a31449",
   "metadata": {},
   "outputs": [],
   "source": [
    "4. What is an expression made up of? What do all expressions do?"
   ]
  },
  {
   "cell_type": "code",
   "execution_count": null,
   "id": "7eba7428",
   "metadata": {},
   "outputs": [],
   "source": [
    "An expression in Python is made up of a combination of values, variables, operators, and function calls.\n",
    "It can be as simple as a single value or as complex as a combination of multiple sub-expressions.\n",
    "Ex- a=2+3\n",
    "\n",
    "The primary purpose of expressions is to compute values. When an expression is evaluated, \n",
    "it performs the necessary operations based on the provided values, variables, operators, and function calls, \n",
    "and produces a result. This result can be used in various ways, such as assigning it to a variable, \n",
    "passing it as an argument, or using it in decision-making structures like if statements or loops.\n",
    "\n",
    "Expressions are fundamental in programming as they allow us to perform calculations, \n",
    "manipulate data, make decisions based on conditions, and create complex behavior in our programs. \n",
    "They form the building blocks for writing logic and implementing algorithms to solve problems effectively."
   ]
  },
  {
   "cell_type": "code",
   "execution_count": null,
   "id": "e03d339c",
   "metadata": {},
   "outputs": [],
   "source": [
    "5. This assignment statements, like spam = 10. What is the difference between an expression and a statement?"
   ]
  },
  {
   "cell_type": "code",
   "execution_count": null,
   "id": "d64fb532",
   "metadata": {},
   "outputs": [],
   "source": [
    "The main difference between expressions and statements is that expressions produce values, \n",
    "whereas statements perform actions or define program structures. \n",
    "Expressions are used within statements to calculate values or provide input for the statements. Statements, on the other hand, are executed and may produce side effects or control the flow of the program."
   ]
  },
  {
   "cell_type": "code",
   "execution_count": null,
   "id": "ac691637",
   "metadata": {},
   "outputs": [],
   "source": [
    "6. After running the following code, what does the variable bacon contain?\n",
    "bacon = 22\n",
    "bacon + 1"
   ]
  },
  {
   "cell_type": "code",
   "execution_count": 27,
   "id": "6fff20e2",
   "metadata": {},
   "outputs": [
    {
     "name": "stdout",
     "output_type": "stream",
     "text": [
      "bacon only contains: 22\n"
     ]
    }
   ],
   "source": [
    "## vaiable bacon con only 22 as there there is no variable taken to store the value of bacon+1 \n",
    "bacon = 22\n",
    "bacon + 1\n",
    "print(f\"bacon only contains: {bacon}\")"
   ]
  },
  {
   "cell_type": "code",
   "execution_count": null,
   "id": "da5674dd",
   "metadata": {},
   "outputs": [],
   "source": [
    "7. What should the values of the following two terms be?\n",
    "'spam' + 'spamspam'\n",
    "'spam' * 3"
   ]
  },
  {
   "cell_type": "code",
   "execution_count": 24,
   "id": "16123a0c",
   "metadata": {},
   "outputs": [
    {
     "name": "stdout",
     "output_type": "stream",
     "text": [
      "addition of two strings :spamspamspam\n",
      "multiplication of a string by 3 :spamspamspam\n"
     ]
    }
   ],
   "source": [
    "str1= 'spam' + 'spamspam'\n",
    "print(f\"addition of two strings :{str1}\")\n",
    "\n",
    "str2= 'spam' * 3\n",
    "print(f\"multiplication of a string by 3 :{str2}\")"
   ]
  },
  {
   "cell_type": "code",
   "execution_count": null,
   "id": "6f9c1240",
   "metadata": {},
   "outputs": [],
   "source": [
    "8. Why is eggs a valid variable name while 100 is invalid?"
   ]
  },
  {
   "cell_type": "code",
   "execution_count": null,
   "id": "15a0d9a0",
   "metadata": {},
   "outputs": [],
   "source": [
    "Because in python variable should not start with any numeric value like 0-9."
   ]
  },
  {
   "cell_type": "code",
   "execution_count": null,
   "id": "c64937a2",
   "metadata": {},
   "outputs": [],
   "source": [
    "9. What three functions can be used to get the integer, floating-point number, or string version of a value"
   ]
  },
  {
   "cell_type": "code",
   "execution_count": 21,
   "id": "36d26066",
   "metadata": {
    "scrolled": true
   },
   "outputs": [
    {
     "name": "stdout",
     "output_type": "stream",
     "text": [
      "5\n",
      "<class 'int'>\n",
      "5.0\n",
      "<class 'float'>\n",
      "5\n",
      "<class 'str'>\n"
     ]
    }
   ],
   "source": [
    "## coverting str to int\n",
    "a='5'\n",
    "int_a=int(a)\n",
    "print(int_a)\n",
    "print(type(int_a))\n",
    "\n",
    "## coverting str to float\n",
    "float_a=float(a)\n",
    "print(float_a)\n",
    "print(type(float_a))\n",
    "\n",
    "## coverting int to str\n",
    "b=5\n",
    "str_b=str(b)\n",
    "print(str(b))\n",
    "print(type(str_b))"
   ]
  },
  {
   "cell_type": "code",
   "execution_count": null,
   "id": "e96287eb",
   "metadata": {},
   "outputs": [],
   "source": [
    "10. Why does this expression cause an error? How can you fix it?\n",
    "'I have eaten ' + 99 + ' burritos.'"
   ]
  },
  {
   "cell_type": "code",
   "execution_count": 2,
   "id": "5896c060",
   "metadata": {},
   "outputs": [
    {
     "name": "stdout",
     "output_type": "stream",
     "text": [
      "I have eaten 99 burritos.\n"
     ]
    }
   ],
   "source": [
    "## as 99 is numeric value and rest words are string, it is not possible to combine both so put 99 in quotes\n",
    "str1 = 'I have eaten ' + '99' + ' burritos.'\n",
    "print(str1)"
   ]
  }
 ],
 "metadata": {
  "kernelspec": {
   "display_name": "Python 3 (ipykernel)",
   "language": "python",
   "name": "python3"
  },
  "language_info": {
   "codemirror_mode": {
    "name": "ipython",
    "version": 3
   },
   "file_extension": ".py",
   "mimetype": "text/x-python",
   "name": "python",
   "nbconvert_exporter": "python",
   "pygments_lexer": "ipython3",
   "version": "3.9.7"
  }
 },
 "nbformat": 4,
 "nbformat_minor": 5
}
